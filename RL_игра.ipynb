{
  "nbformat": 4,
  "nbformat_minor": 0,
  "metadata": {
    "colab": {
      "provenance": []
    },
    "kernelspec": {
      "name": "python3",
      "display_name": "Python 3"
    },
    "language_info": {
      "name": "python"
    }
  },
  "cells": [
    {
      "cell_type": "code",
      "source": [
        "import numpy as np\n",
        "import gymnasium as gym\n",
        "from gymnasium import spaces\n",
        "import matplotlib.pyplot as plt\n",
        "import matplotlib.patches as patches\n",
        "import matplotlib.animation as animation\n",
        "from IPython.display import display, clear_output\n",
        "import time\n",
        "\n",
        "%matplotlib inline"
      ],
      "metadata": {
        "id": "pB4dks6KmBH4"
      },
      "execution_count": 1,
      "outputs": []
    },
    {
      "cell_type": "code",
      "source": [
        "class ParkingLotEnv(gym.Env):\n",
        "    def __init__(self, grid_size=(10, 10), parking_spot_num=10, occupancy_ratio=0.6, max_steps=100):\n",
        "        super(ParkingLotEnv, self).__init__()\n",
        "\n",
        "        # environment parameters\n",
        "        self.grid_size = grid_size\n",
        "        self.parking_spot_num = parking_spot_num\n",
        "        self.occupancy_ratio = occupancy_ratio\n",
        "        self.max_steps = max_steps\n",
        "\n",
        "        # define action and observation spaces\n",
        "        self.action_space = spaces.Discrete(4)  # 0: up, 1: down, 2: left, 3: right\n",
        "        self.observation_space = spaces.Box(low=0, high=2, shape=grid_size, dtype=np.int32)\n",
        "\n",
        "        # generate the parking and occupied spots\n",
        "        self.parking_spot_indices = np.random.choice(self.grid_size[0] * self.grid_size[1], int(self.parking_spot_num), replace=False)\n",
        "        self.occupied_indices = np.random.choice(self.parking_spot_indices, int(self.parking_spot_num * self.occupancy_ratio), replace=False)\n",
        "\n",
        "        # initialize state\n",
        "        self.grid = None\n",
        "        self.agent_pos = None\n",
        "        self.steps_taken = 0\n",
        "        self.reset()\n",
        "\n",
        "    def reset(self):\n",
        "        # generate a new grid\n",
        "        self.grid = np.zeros(self.grid_size, dtype=np.int32)\n",
        "        self.grid.flat[self.parking_spot_indices] = 1  # 1 represents a parking spot\n",
        "        self.grid.flat[self.occupied_indices] = 2  # 2 represents an occupied parking spot\n",
        "\n",
        "        # place the agent at the entrance (top-left corner)\n",
        "        self.agent_pos = (0, 0)\n",
        "        self.steps_taken = 0\n",
        "\n",
        "        return self.agent_pos\n",
        "\n",
        "    def step(self, action):\n",
        "        new_pos = list(self.agent_pos)\n",
        "        if action == 0:  # Up\n",
        "            new_pos[0] -= 1\n",
        "        elif action == 1:  # Down\n",
        "            new_pos[0] += 1\n",
        "        elif action == 2:  # Left\n",
        "            new_pos[1] -= 1\n",
        "        elif action == 3:  # Right\n",
        "            new_pos[1] += 1\n",
        "\n",
        "        if (new_pos[0] < 0 or new_pos[0] >= self.grid_size[0] or\n",
        "            new_pos[1] < 0 or new_pos[1] >= self.grid_size[1]):\n",
        "            reward = -5  # hit a wall\n",
        "            done = False\n",
        "        else:\n",
        "            cell_value = self.grid[new_pos[0], new_pos[1]]\n",
        "            if cell_value == 1:  # available parking spot\n",
        "                reward = 100\n",
        "                done = True\n",
        "            elif cell_value == 2:  # occupied parking spot\n",
        "                reward = -50\n",
        "                done = False\n",
        "            else:  # empty space\n",
        "                reward = -1\n",
        "                done = False\n",
        "            self.agent_pos = tuple(new_pos)\n",
        "\n",
        "        self.steps_taken += 1\n",
        "        if self.steps_taken >= self.max_steps:\n",
        "            done = True\n",
        "            reward = -10\n",
        "\n",
        "        return self.agent_pos, reward, done, {}\n",
        "\n",
        "    def render(self, delay=0.2):\n",
        "        fig, ax = plt.subplots(figsize=(5, 5))\n",
        "        ax.set_xlim(0, self.grid_size[1])\n",
        "        ax.set_ylim(0, self.grid_size[0])\n",
        "\n",
        "        # draw grid lines and background\n",
        "        ax.set_xticks([x for x in range(self.grid_size[1] + 1)], minor=False)\n",
        "        ax.set_yticks([y for y in range(self.grid_size[0] + 1)], minor=False)\n",
        "        ax.grid(which='major', color='black', linestyle='-', linewidth=1.5)\n",
        "        ax.set_facecolor('lightgrey')\n",
        "        ax.invert_yaxis()\n",
        "\n",
        "        for i in range(self.grid_size[0]):\n",
        "            for j in range(self.grid_size[1]):\n",
        "                if self.grid[i, j] == 1:\n",
        "                    ax.add_patch(patches.Rectangle((j, i), 1, 1, color='green'))  # Free spot\n",
        "                elif self.grid[i, j] == 2:\n",
        "                    ax.add_patch(patches.Rectangle((j, i), 1, 1, color='yellow'))  # Occupied spot\n",
        "\n",
        "        # draw agent as a red circle\n",
        "        agent_circle = plt.Circle((self.agent_pos[1] + 0.5, self.agent_pos[0] + 0.5), 0.4, color='red')\n",
        "        ax.add_patch(agent_circle)\n",
        "\n",
        "        clear_output(wait=True)\n",
        "        display(fig)\n",
        "        plt.close(fig)\n",
        "        time.sleep(delay)"
      ],
      "metadata": {
        "id": "JBi4RVFNmGyO"
      },
      "execution_count": 8,
      "outputs": []
    },
    {
      "cell_type": "code",
      "source": [
        "class ParkingLotAgent():\n",
        "    def __init__(self, env, learning_rate=0.1, discount_factor=0.9, exploration_rate=0, decay_exploration=False, max_exploration_rate=1.0, min_exploration_rate=0.01, exploration_decay_rate=0.001):\n",
        "        self.env = env\n",
        "        self.learning_rate = learning_rate\n",
        "        self.discount_factor = discount_factor\n",
        "        self.exploration_rate = exploration_rate\n",
        "        self.decay_exploration = decay_exploration\n",
        "        self.max_exploration_rate = max_exploration_rate\n",
        "        self.min_exploration_rate = min_exploration_rate\n",
        "        self.exploration_decay_rate = exploration_decay_rate\n",
        "        self.q_table = np.zeros((env.grid_size[0], env.grid_size[1], env.action_space.n))\n",
        "\n",
        "    def choose_action(self, state):\n",
        "        if np.random.uniform(0, 1) < self.exploration_rate:\n",
        "            return self.env.action_space.sample()  # explore\n",
        "        else:\n",
        "            return np.argmax(self.q_table[state[0], state[1]])  # exploit\n",
        "\n",
        "    def update_q_table(self, state, action, reward, next_state):\n",
        "        # q-learning update rule\n",
        "        best_next_action = np.argmax(self.q_table[next_state[0], next_state[1]])\n",
        "        td_target = reward + self.discount_factor * self.q_table[next_state[0], next_state[1], best_next_action]\n",
        "        td_error = td_target - self.q_table[state[0], state[1], action]\n",
        "        self.q_table[state[0], state[1], action] += self.learning_rate * td_error\n",
        "\n",
        "    def decay_exploration_rate(self, episode):\n",
        "        # decay exploration rate\n",
        "        self.exploration_rate = self.min_exploration_rate + (self.max_exploration_rate - self.min_exploration_rate) * np.exp(-self.exploration_decay_rate * episode)"
      ],
      "metadata": {
        "id": "9_qFd0DqnRTs"
      },
      "execution_count": 9,
      "outputs": []
    },
    {
      "cell_type": "code",
      "source": [
        "def train_agent(env, agent, num_episodes=5000):\n",
        "    rewards = []\n",
        "    for episode in range(num_episodes):\n",
        "        state = env.reset()\n",
        "        done = False\n",
        "        total_reward = 0\n",
        "\n",
        "        while not done:\n",
        "            action = agent.choose_action(state)\n",
        "            next_state, reward, done, _ = env.step(action)\n",
        "            agent.update_q_table(state, action, reward, next_state)\n",
        "            state = next_state\n",
        "            total_reward += reward\n",
        "\n",
        "        if agent.decay_exploration:\n",
        "            agent.decay_exploration_rate(episode)\n",
        "        rewards.append(total_reward)\n",
        "\n",
        "        if (episode + 1) % 100 == 0:\n",
        "            print(f\"Episode {episode + 1}, Total Reward: {total_reward}, Exploration Rate: {agent.exploration_rate:.2f}\")\n",
        "\n",
        "    plt.plot(rewards)\n",
        "    plt.xlabel(\"Episode\")\n",
        "    plt.ylabel(\"Total Reward\")\n",
        "    plt.title(\"Training Progress\")\n",
        "    plt.show()"
      ],
      "metadata": {
        "id": "1gj8tr_IoAaY"
      },
      "execution_count": 10,
      "outputs": []
    },
    {
      "cell_type": "code",
      "source": [
        "env = ParkingLotEnv()\n",
        "agent = ParkingLotAgent(env, exploration_rate=1.0, decay_exploration=True)\n",
        "\n",
        "train_agent(env, agent, num_episodes=5000)"
      ],
      "metadata": {
        "colab": {
          "base_uri": "https://localhost:8080/",
          "height": 1000
        },
        "id": "jW7JNLGFry91",
        "outputId": "38f0f87f-994a-4e02-a411-9df2973f55a9"
      },
      "execution_count": 11,
      "outputs": [
        {
          "output_type": "stream",
          "name": "stdout",
          "text": [
            "Episode 100, Total Reward: -59, Exploration Rate: 0.91\n",
            "Episode 200, Total Reward: -71, Exploration Rate: 0.82\n",
            "Episode 300, Total Reward: 64, Exploration Rate: 0.74\n",
            "Episode 400, Total Reward: 82, Exploration Rate: 0.67\n",
            "Episode 500, Total Reward: 74, Exploration Rate: 0.61\n",
            "Episode 600, Total Reward: 91, Exploration Rate: 0.55\n",
            "Episode 700, Total Reward: 93, Exploration Rate: 0.50\n",
            "Episode 800, Total Reward: 93, Exploration Rate: 0.46\n",
            "Episode 900, Total Reward: 91, Exploration Rate: 0.41\n",
            "Episode 1000, Total Reward: 87, Exploration Rate: 0.37\n",
            "Episode 1100, Total Reward: 88, Exploration Rate: 0.34\n",
            "Episode 1200, Total Reward: 80, Exploration Rate: 0.31\n",
            "Episode 1300, Total Reward: 93, Exploration Rate: 0.28\n",
            "Episode 1400, Total Reward: 93, Exploration Rate: 0.25\n",
            "Episode 1500, Total Reward: 88, Exploration Rate: 0.23\n",
            "Episode 1600, Total Reward: 91, Exploration Rate: 0.21\n",
            "Episode 1700, Total Reward: 91, Exploration Rate: 0.19\n",
            "Episode 1800, Total Reward: 89, Exploration Rate: 0.17\n",
            "Episode 1900, Total Reward: 91, Exploration Rate: 0.16\n",
            "Episode 2000, Total Reward: 93, Exploration Rate: 0.14\n",
            "Episode 2100, Total Reward: 91, Exploration Rate: 0.13\n",
            "Episode 2200, Total Reward: 93, Exploration Rate: 0.12\n",
            "Episode 2300, Total Reward: 91, Exploration Rate: 0.11\n",
            "Episode 2400, Total Reward: 93, Exploration Rate: 0.10\n",
            "Episode 2500, Total Reward: 93, Exploration Rate: 0.09\n",
            "Episode 2600, Total Reward: 93, Exploration Rate: 0.08\n",
            "Episode 2700, Total Reward: 91, Exploration Rate: 0.08\n",
            "Episode 2800, Total Reward: 88, Exploration Rate: 0.07\n",
            "Episode 2900, Total Reward: 93, Exploration Rate: 0.06\n",
            "Episode 3000, Total Reward: 93, Exploration Rate: 0.06\n",
            "Episode 3100, Total Reward: 93, Exploration Rate: 0.05\n",
            "Episode 3200, Total Reward: 93, Exploration Rate: 0.05\n",
            "Episode 3300, Total Reward: 93, Exploration Rate: 0.05\n",
            "Episode 3400, Total Reward: 91, Exploration Rate: 0.04\n",
            "Episode 3500, Total Reward: 93, Exploration Rate: 0.04\n",
            "Episode 3600, Total Reward: 93, Exploration Rate: 0.04\n",
            "Episode 3700, Total Reward: 93, Exploration Rate: 0.03\n",
            "Episode 3800, Total Reward: 93, Exploration Rate: 0.03\n",
            "Episode 3900, Total Reward: 93, Exploration Rate: 0.03\n",
            "Episode 4000, Total Reward: 93, Exploration Rate: 0.03\n",
            "Episode 4100, Total Reward: 93, Exploration Rate: 0.03\n",
            "Episode 4200, Total Reward: 93, Exploration Rate: 0.02\n",
            "Episode 4300, Total Reward: 93, Exploration Rate: 0.02\n",
            "Episode 4400, Total Reward: 93, Exploration Rate: 0.02\n",
            "Episode 4500, Total Reward: 93, Exploration Rate: 0.02\n",
            "Episode 4600, Total Reward: 93, Exploration Rate: 0.02\n",
            "Episode 4700, Total Reward: 93, Exploration Rate: 0.02\n",
            "Episode 4800, Total Reward: 93, Exploration Rate: 0.02\n",
            "Episode 4900, Total Reward: 93, Exploration Rate: 0.02\n",
            "Episode 5000, Total Reward: 93, Exploration Rate: 0.02\n"
          ]
        },
        {
          "output_type": "display_data",
          "data": {
            "text/plain": [
              "<Figure size 640x480 with 1 Axes>"
            ],
            "image/png": "[encoded data removed]"
          },
          "metadata": {}
        }
      ]
    },
    {
      "cell_type": "code",
      "source": [
        "state = env.reset()\n",
        "\n",
        "done = False\n",
        "total_reward = 0\n",
        "env.render(delay=1)\n",
        "\n",
        "while not done:\n",
        "    action = agent.choose_action(state)\n",
        "    next_state, reward, done, _ = env.step(action)\n",
        "    agent.update_q_table(state, action, reward, next_state)\n",
        "    state = next_state\n",
        "    total_reward += reward\n",
        "    env.render(delay=1)\n",
        "\n",
        "print(reward)"
      ],
      "metadata": {
        "colab": {
          "base_uri": "https://localhost:8080/",
          "height": 468
        },
        "id": "LJKX1YJ0r-ay",
        "outputId": "0a7bd5d2-3d0e-4567-aa47-2b7e371e21cc"
      },
      "execution_count": 13,
      "outputs": [
        {
          "output_type": "display_data",
          "data": {
            "text/plain": [
              "<Figure size 500x500 with 1 Axes>"
            ],
            "image/png": "[encoded data removed]"
          },
          "metadata": {}
        },
        {
          "output_type": "stream",
          "name": "stdout",
          "text": [
            "100\n"
          ]
        }
      ]
    },
    {
      "cell_type": "code",
      "source": [],
      "metadata": {
        "id": "LLatQPPlsIgn"
      },
      "execution_count": null,
      "outputs": []
    }
  ]
}